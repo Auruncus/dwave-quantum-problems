{
 "metadata": {
  "language_info": {
   "codemirror_mode": {
    "name": "ipython",
    "version": 3
   },
   "file_extension": ".py",
   "mimetype": "text/x-python",
   "name": "python",
   "nbconvert_exporter": "python",
   "pygments_lexer": "ipython3",
   "version": "3.9.15"
  },
  "orig_nbformat": 4,
  "kernelspec": {
   "name": "python3",
   "display_name": "Python 3.9.15 64-bit"
  },
  "interpreter": {
   "hash": "4cd7ab41f5fca4b9b44701077e38c5ffd31fe66a6cab21e0214b68d958d0e462"
  }
 },
 "nbformat": 4,
 "nbformat_minor": 2,
 "cells": [
  {
   "source": [
    "Inspecting an Embedded Problem"
   ],
   "cell_type": "markdown",
   "metadata": {}
  },
  {
   "cell_type": "code",
   "execution_count": null,
   "metadata": {},
   "outputs": [],
   "source": [
    "from dwave.system import DWaveSampler\n",
    "import dwave.inspector\n",
    "# Get solver\n",
    "sampler = DWaveSampler(solver=dict(qpu=True)) \n",
    "# Define a problem (actual qubits depend on the selected QPU's working graph)\n",
    "h = {}\n",
    "J = {(0, 4): 1, (0, 5): 1, (1, 4): 1, (1, 5): -1}\n",
    "all(edge in sampler.edgelist for edge in J) \n",
    "True\n",
    "# Sample\n",
    "response = sampler.sample_ising(h, J, num_reads=100)\n",
    "# Inspect\n",
    "dwave.inspector.show(response)"
   ]
  },
  {
   "source": [
    "Inspecting a Logical Problem\n",
    "\n",
    "Use dimod to visualize qubo-type problems\n",
    "This example visualizes a logically specified problem, and then Ocean’sEmbeddingCompositeAutomatic minor-embed. For ease of explanation, it sets a chain_strength to show broken links.\n",
    "One or more chains in the solution are broken, which means that qubits containing a single logical variable (\"chain\") have different values"
   ],
   "cell_type": "markdown",
   "metadata": {}
  },
  {
   "source": [
    "import dimod\n",
    "import dwave.inspector\n",
    "from dwave.system import DWaveSampler, EmbeddingComposite\n",
    "# Define problem\n",
    "bqm = dimod.BQM.from_ising({}, {'ab': 1, 'bc': 1, 'ca': 1})\n",
    "# Get sampler\n",
    "sampler = EmbeddingComposite(DWaveSampler(solver=dict(qpu=True))) \n",
    "# Sample with low chain strength\n",
    "sampleset = sampler.sample(bqm, num_reads=1000, chain_strength=0.1) \n",
    "dwave.inspector.show(sampleset)"
   ],
   "cell_type": "code",
   "metadata": {},
   "execution_count": 3,
   "outputs": [
    {
     "output_type": "execute_result",
     "data": {
      "text/plain": [
       "'http://127.0.0.1:18000/?problemId=3fe2bf72-dfc2-4943-a1df-36e77ee2665a'"
      ]
     },
     "metadata": {},
     "execution_count": 3
    }
   ]
  },
  {
   "cell_type": "code",
   "execution_count": null,
   "metadata": {},
   "outputs": [],
   "source": []
  }
 ]
}